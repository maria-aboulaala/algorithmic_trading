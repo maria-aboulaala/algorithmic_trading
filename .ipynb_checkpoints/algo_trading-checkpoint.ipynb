{
 "cells": [
  {
   "cell_type": "code",
   "execution_count": 15,
   "id": "00ecfa93-0d43-4607-840a-cb714e7af6dc",
   "metadata": {},
   "outputs": [
    {
     "name": "stdout",
     "output_type": "stream",
     "text": [
      "[*********************100%***********************]  1 of 1 completed\n"
     ]
    }
   ],
   "source": [
    "import yfinance as yf\n",
    "nas = yf.download(tickers='^IXIC', period = '5mo', interval= '1d')"
   ]
  },
  {
   "cell_type": "code",
   "execution_count": 16,
   "id": "cd1e1817-db64-45c0-881d-80d81ebacd09",
   "metadata": {},
   "outputs": [
    {
     "data": {
      "text/html": [
       "<div>\n",
       "<style scoped>\n",
       "    .dataframe tbody tr th:only-of-type {\n",
       "        vertical-align: middle;\n",
       "    }\n",
       "\n",
       "    .dataframe tbody tr th {\n",
       "        vertical-align: top;\n",
       "    }\n",
       "\n",
       "    .dataframe thead th {\n",
       "        text-align: right;\n",
       "    }\n",
       "</style>\n",
       "<table border=\"1\" class=\"dataframe\">\n",
       "  <thead>\n",
       "    <tr style=\"text-align: right;\">\n",
       "      <th></th>\n",
       "      <th>Open</th>\n",
       "      <th>High</th>\n",
       "      <th>Low</th>\n",
       "      <th>Close</th>\n",
       "      <th>Adj Close</th>\n",
       "      <th>Volume</th>\n",
       "    </tr>\n",
       "    <tr>\n",
       "      <th>Date</th>\n",
       "      <th></th>\n",
       "      <th></th>\n",
       "      <th></th>\n",
       "      <th></th>\n",
       "      <th></th>\n",
       "      <th></th>\n",
       "    </tr>\n",
       "  </thead>\n",
       "  <tbody>\n",
       "    <tr>\n",
       "      <th>2022-06-06</th>\n",
       "      <td>12200.330078</td>\n",
       "      <td>12245.400391</td>\n",
       "      <td>12004.200195</td>\n",
       "      <td>12061.370117</td>\n",
       "      <td>12061.370117</td>\n",
       "      <td>4633950000</td>\n",
       "    </tr>\n",
       "    <tr>\n",
       "      <th>2022-06-07</th>\n",
       "      <td>11925.809570</td>\n",
       "      <td>12194.860352</td>\n",
       "      <td>11888.610352</td>\n",
       "      <td>12175.230469</td>\n",
       "      <td>12175.230469</td>\n",
       "      <td>4383960000</td>\n",
       "    </tr>\n",
       "    <tr>\n",
       "      <th>2022-06-08</th>\n",
       "      <td>12147.280273</td>\n",
       "      <td>12235.780273</td>\n",
       "      <td>12052.700195</td>\n",
       "      <td>12086.269531</td>\n",
       "      <td>12086.269531</td>\n",
       "      <td>4689310000</td>\n",
       "    </tr>\n",
       "    <tr>\n",
       "      <th>2022-06-09</th>\n",
       "      <td>12016.469727</td>\n",
       "      <td>12115.059570</td>\n",
       "      <td>11751.980469</td>\n",
       "      <td>11754.230469</td>\n",
       "      <td>11754.230469</td>\n",
       "      <td>5382110000</td>\n",
       "    </tr>\n",
       "    <tr>\n",
       "      <th>2022-06-10</th>\n",
       "      <td>11543.879883</td>\n",
       "      <td>11569.150391</td>\n",
       "      <td>11328.269531</td>\n",
       "      <td>11340.019531</td>\n",
       "      <td>11340.019531</td>\n",
       "      <td>5125980000</td>\n",
       "    </tr>\n",
       "    <tr>\n",
       "      <th>...</th>\n",
       "      <td>...</td>\n",
       "      <td>...</td>\n",
       "      <td>...</td>\n",
       "      <td>...</td>\n",
       "      <td>...</td>\n",
       "      <td>...</td>\n",
       "    </tr>\n",
       "    <tr>\n",
       "      <th>2022-10-31</th>\n",
       "      <td>11028.429688</td>\n",
       "      <td>11047.940430</td>\n",
       "      <td>10914.009766</td>\n",
       "      <td>10988.150391</td>\n",
       "      <td>10988.150391</td>\n",
       "      <td>4753740000</td>\n",
       "    </tr>\n",
       "    <tr>\n",
       "      <th>2022-11-01</th>\n",
       "      <td>11154.740234</td>\n",
       "      <td>11156.349609</td>\n",
       "      <td>10881.190430</td>\n",
       "      <td>10890.849609</td>\n",
       "      <td>10890.849609</td>\n",
       "      <td>4677520000</td>\n",
       "    </tr>\n",
       "    <tr>\n",
       "      <th>2022-11-02</th>\n",
       "      <td>10885.009766</td>\n",
       "      <td>10993.240234</td>\n",
       "      <td>10522.900391</td>\n",
       "      <td>10524.799805</td>\n",
       "      <td>10524.799805</td>\n",
       "      <td>5436420000</td>\n",
       "    </tr>\n",
       "    <tr>\n",
       "      <th>2022-11-03</th>\n",
       "      <td>10399.450195</td>\n",
       "      <td>10486.009766</td>\n",
       "      <td>10319.540039</td>\n",
       "      <td>10342.940430</td>\n",
       "      <td>10342.940430</td>\n",
       "      <td>5102190000</td>\n",
       "    </tr>\n",
       "    <tr>\n",
       "      <th>2022-11-04</th>\n",
       "      <td>10548.139648</td>\n",
       "      <td>10553.629883</td>\n",
       "      <td>10262.929688</td>\n",
       "      <td>10475.250000</td>\n",
       "      <td>10475.250000</td>\n",
       "      <td>5453750000</td>\n",
       "    </tr>\n",
       "  </tbody>\n",
       "</table>\n",
       "<p>107 rows × 6 columns</p>\n",
       "</div>"
      ],
      "text/plain": [
       "                    Open          High           Low         Close  \\\n",
       "Date                                                                 \n",
       "2022-06-06  12200.330078  12245.400391  12004.200195  12061.370117   \n",
       "2022-06-07  11925.809570  12194.860352  11888.610352  12175.230469   \n",
       "2022-06-08  12147.280273  12235.780273  12052.700195  12086.269531   \n",
       "2022-06-09  12016.469727  12115.059570  11751.980469  11754.230469   \n",
       "2022-06-10  11543.879883  11569.150391  11328.269531  11340.019531   \n",
       "...                  ...           ...           ...           ...   \n",
       "2022-10-31  11028.429688  11047.940430  10914.009766  10988.150391   \n",
       "2022-11-01  11154.740234  11156.349609  10881.190430  10890.849609   \n",
       "2022-11-02  10885.009766  10993.240234  10522.900391  10524.799805   \n",
       "2022-11-03  10399.450195  10486.009766  10319.540039  10342.940430   \n",
       "2022-11-04  10548.139648  10553.629883  10262.929688  10475.250000   \n",
       "\n",
       "               Adj Close      Volume  \n",
       "Date                                  \n",
       "2022-06-06  12061.370117  4633950000  \n",
       "2022-06-07  12175.230469  4383960000  \n",
       "2022-06-08  12086.269531  4689310000  \n",
       "2022-06-09  11754.230469  5382110000  \n",
       "2022-06-10  11340.019531  5125980000  \n",
       "...                  ...         ...  \n",
       "2022-10-31  10988.150391  4753740000  \n",
       "2022-11-01  10890.849609  4677520000  \n",
       "2022-11-02  10524.799805  5436420000  \n",
       "2022-11-03  10342.940430  5102190000  \n",
       "2022-11-04  10475.250000  5453750000  \n",
       "\n",
       "[107 rows x 6 columns]"
      ]
     },
     "execution_count": 16,
     "metadata": {},
     "output_type": "execute_result"
    }
   ],
   "source": [
    "nas"
   ]
  },
  {
   "cell_type": "code",
   "execution_count": 17,
   "id": "470adf04-a5b9-41e0-b9f6-db25afcf595c",
   "metadata": {},
   "outputs": [
    {
     "name": "stdout",
     "output_type": "stream",
     "text": [
      "<class 'pandas.core.frame.DataFrame'>\n",
      "DatetimeIndex: 107 entries, 2022-06-06 to 2022-11-04\n",
      "Data columns (total 6 columns):\n",
      " #   Column     Non-Null Count  Dtype  \n",
      "---  ------     --------------  -----  \n",
      " 0   Open       107 non-null    float64\n",
      " 1   High       107 non-null    float64\n",
      " 2   Low        107 non-null    float64\n",
      " 3   Close      107 non-null    float64\n",
      " 4   Adj Close  107 non-null    float64\n",
      " 5   Volume     107 non-null    int64  \n",
      "dtypes: float64(5), int64(1)\n",
      "memory usage: 5.9 KB\n"
     ]
    }
   ],
   "source": [
    "nas.info()"
   ]
  },
  {
   "cell_type": "code",
   "execution_count": 30,
   "id": "def28244-feb3-479f-a00d-11e232193dfc",
   "metadata": {},
   "outputs": [
    {
     "name": "stdout",
     "output_type": "stream",
     "text": [
      "<class 'pandas.core.frame.DataFrame'>\n",
      "DatetimeIndex: 107 entries, 2022-06-06 to 2022-11-04\n",
      "Data columns (total 1 columns):\n",
      " #   Column  Non-Null Count  Dtype  \n",
      "---  ------  --------------  -----  \n",
      " 0   Close   107 non-null    float64\n",
      "dtypes: float64(1)\n",
      "memory usage: 1.7 KB\n"
     ]
    }
   ],
   "source": [
    "nas.info()"
   ]
  },
  {
   "cell_type": "code",
   "execution_count": 52,
   "id": "65e50abd-ad3f-40cc-ae84-12ca87f4eea6",
   "metadata": {},
   "outputs": [],
   "source": [
    "nas['sma1'] = nas['Close'].rolling(2).mean()"
   ]
  },
  {
   "cell_type": "code",
   "execution_count": 57,
   "id": "4f62301d-5223-42ea-90d9-7aa299832d99",
   "metadata": {},
   "outputs": [],
   "source": [
    "nas['sma2'] = nas['Close'].rolling(5).mean()"
   ]
  },
  {
   "cell_type": "code",
   "execution_count": 58,
   "id": "987f83b4-163b-4d30-b737-435cfe83ae27",
   "metadata": {},
   "outputs": [
    {
     "data": {
      "text/plain": [
       "Date\n",
       "2022-06-06             NaN\n",
       "2022-06-07             NaN\n",
       "2022-06-08             NaN\n",
       "2022-06-09             NaN\n",
       "2022-06-10    11883.424023\n",
       "Name: sma2, dtype: float64"
      ]
     },
     "execution_count": 58,
     "metadata": {},
     "output_type": "execute_result"
    }
   ],
   "source": [
    "nas['sma2'].head()"
   ]
  },
  {
   "cell_type": "code",
   "execution_count": 56,
   "id": "082a4e60-ce1e-460c-90f5-c5c865be876c",
   "metadata": {},
   "outputs": [
    {
     "data": {
      "text/html": [
       "<div>\n",
       "<style scoped>\n",
       "    .dataframe tbody tr th:only-of-type {\n",
       "        vertical-align: middle;\n",
       "    }\n",
       "\n",
       "    .dataframe tbody tr th {\n",
       "        vertical-align: top;\n",
       "    }\n",
       "\n",
       "    .dataframe thead th {\n",
       "        text-align: right;\n",
       "    }\n",
       "</style>\n",
       "<table border=\"1\" class=\"dataframe\">\n",
       "  <thead>\n",
       "    <tr style=\"text-align: right;\">\n",
       "      <th></th>\n",
       "      <th>Close</th>\n",
       "      <th>sma1</th>\n",
       "      <th>sma2</th>\n",
       "    </tr>\n",
       "    <tr>\n",
       "      <th>Date</th>\n",
       "      <th></th>\n",
       "      <th></th>\n",
       "      <th></th>\n",
       "    </tr>\n",
       "  </thead>\n",
       "  <tbody>\n",
       "    <tr>\n",
       "      <th>2022-06-06</th>\n",
       "      <td>12061.370117</td>\n",
       "      <td>NaN</td>\n",
       "      <td>NaN</td>\n",
       "    </tr>\n",
       "    <tr>\n",
       "      <th>2022-06-07</th>\n",
       "      <td>12175.230469</td>\n",
       "      <td>12118.300293</td>\n",
       "      <td>NaN</td>\n",
       "    </tr>\n",
       "    <tr>\n",
       "      <th>2022-06-08</th>\n",
       "      <td>12086.269531</td>\n",
       "      <td>12130.750000</td>\n",
       "      <td>NaN</td>\n",
       "    </tr>\n",
       "    <tr>\n",
       "      <th>2022-06-09</th>\n",
       "      <td>11754.230469</td>\n",
       "      <td>11920.250000</td>\n",
       "      <td>NaN</td>\n",
       "    </tr>\n",
       "    <tr>\n",
       "      <th>2022-06-10</th>\n",
       "      <td>11340.019531</td>\n",
       "      <td>11547.125000</td>\n",
       "      <td>NaN</td>\n",
       "    </tr>\n",
       "    <tr>\n",
       "      <th>...</th>\n",
       "      <td>...</td>\n",
       "      <td>...</td>\n",
       "      <td>...</td>\n",
       "    </tr>\n",
       "    <tr>\n",
       "      <th>2022-10-31</th>\n",
       "      <td>10988.150391</td>\n",
       "      <td>11045.300293</td>\n",
       "      <td>10893.346094</td>\n",
       "    </tr>\n",
       "    <tr>\n",
       "      <th>2022-11-01</th>\n",
       "      <td>10890.849609</td>\n",
       "      <td>10939.500000</td>\n",
       "      <td>10905.191016</td>\n",
       "    </tr>\n",
       "    <tr>\n",
       "      <th>2022-11-02</th>\n",
       "      <td>10524.799805</td>\n",
       "      <td>10707.824707</td>\n",
       "      <td>10889.620020</td>\n",
       "    </tr>\n",
       "    <tr>\n",
       "      <th>2022-11-03</th>\n",
       "      <td>10342.940430</td>\n",
       "      <td>10433.870117</td>\n",
       "      <td>10862.430078</td>\n",
       "    </tr>\n",
       "    <tr>\n",
       "      <th>2022-11-04</th>\n",
       "      <td>10475.250000</td>\n",
       "      <td>10409.095215</td>\n",
       "      <td>10823.983105</td>\n",
       "    </tr>\n",
       "  </tbody>\n",
       "</table>\n",
       "<p>107 rows × 3 columns</p>\n",
       "</div>"
      ],
      "text/plain": [
       "                   Close          sma1          sma2\n",
       "Date                                                \n",
       "2022-06-06  12061.370117           NaN           NaN\n",
       "2022-06-07  12175.230469  12118.300293           NaN\n",
       "2022-06-08  12086.269531  12130.750000           NaN\n",
       "2022-06-09  11754.230469  11920.250000           NaN\n",
       "2022-06-10  11340.019531  11547.125000           NaN\n",
       "...                  ...           ...           ...\n",
       "2022-10-31  10988.150391  11045.300293  10893.346094\n",
       "2022-11-01  10890.849609  10939.500000  10905.191016\n",
       "2022-11-02  10524.799805  10707.824707  10889.620020\n",
       "2022-11-03  10342.940430  10433.870117  10862.430078\n",
       "2022-11-04  10475.250000  10409.095215  10823.983105\n",
       "\n",
       "[107 rows x 3 columns]"
      ]
     },
     "execution_count": 56,
     "metadata": {},
     "output_type": "execute_result"
    }
   ],
   "source": [
    "nas"
   ]
  },
  {
   "cell_type": "code",
   "execution_count": 60,
   "id": "966c17fa-0d2a-4208-9433-1830b1fbe9a5",
   "metadata": {},
   "outputs": [
    {
     "data": {
      "text/plain": [
       "<AxesSubplot:xlabel='Date'>"
      ]
     },
     "execution_count": 60,
     "metadata": {},
     "output_type": "execute_result"
    },
    {
     "data": {
      "image/png": "[encoded data removed]",
      "text/plain": [
       "<Figure size 720x432 with 1 Axes>"
      ]
     },
     "metadata": {
      "needs_background": "light"
     },
     "output_type": "display_data"
    }
   ],
   "source": [
    "nas.plot(figsize=(10,6))"
   ]
  },
  {
   "cell_type": "code",
   "execution_count": null,
   "id": "27188f7d-340f-43a7-a03c-6cbc5acfb5d9",
   "metadata": {},
   "outputs": [],
   "source": []
  }
 ],
 "metadata": {
  "kernelspec": {
   "display_name": "Python 3 (ipykernel)",
   "language": "python",
   "name": "python3"
  },
  "language_info": {
   "codemirror_mode": {
    "name": "ipython",
    "version": 3
   },
   "file_extension": ".py",
   "mimetype": "text/x-python",
   "name": "python",
   "nbconvert_exporter": "python",
   "pygments_lexer": "ipython3",
   "version": "3.9.7"
  },
  "vscode": {
   "interpreter": {
    "hash": "c2639c349b8a4ceea942618e6e8bbb9819470ee6d55a381ffbccf717fef77968"
   }
  }
 },
 "nbformat": 4,
 "nbformat_minor": 5
}
